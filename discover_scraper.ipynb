{
 "cells": [
  {
   "cell_type": "code",
   "execution_count": 31,
   "metadata": {},
   "outputs": [],
   "source": [
    "from selenium import webdriver\n",
    "from selenium.webdriver.common.by import By\n",
    "from selenium.webdriver.common.keys import Keys\n",
    "from selenium.webdriver.chrome.service import Service as ChromeService\n",
    "import time\n",
    "from webdriver_manager.chrome import ChromeDriverManager"
   ]
  },
  {
   "cell_type": "code",
   "execution_count": 37,
   "metadata": {},
   "outputs": [
    {
     "ename": "WebDriverException",
     "evalue": "Message: disconnected: unable to connect to renderer\n  (failed to check if window was closed: disconnected: unable to connect to renderer)\n  (Session info: chrome=108.0.5359.125)\nStacktrace:\nBacktrace:\n\t(No symbol) [0x00CFF243]\n\t(No symbol) [0x00C87FD1]\n\t(No symbol) [0x00B7D04D]\n\t(No symbol) [0x00B6D3F8]\n\t(No symbol) [0x00B614E4]\n\t(No symbol) [0x00B62344]\n\t(No symbol) [0x00BD17A5]\n\t(No symbol) [0x00BC8553]\n\t(No symbol) [0x00BA163C]\n\t(No symbol) [0x00BA269D]\n\tGetHandleVerifier [0x00F99A22+2655074]\n\tGetHandleVerifier [0x00F8CA24+2601828]\n\tGetHandleVerifier [0x00DA8C0A+619850]\n\tGetHandleVerifier [0x00DA7830+614768]\n\t(No symbol) [0x00C905FC]\n\t(No symbol) [0x00C95968]\n\t(No symbol) [0x00C95A55]\n\t(No symbol) [0x00CA051B]\n\tBaseThreadInitThunk [0x756000F9+25]\n\tRtlGetAppContainerNamedObjectPath [0x77597BBE+286]\n\tRtlGetAppContainerNamedObjectPath [0x77597B8E+238]\n",
     "output_type": "error",
     "traceback": [
      "\u001b[1;31m---------------------------------------------------------------------------\u001b[0m",
      "\u001b[1;31mWebDriverException\u001b[0m                        Traceback (most recent call last)",
      "Cell \u001b[1;32mIn [37], line 6\u001b[0m\n\u001b[0;32m      4\u001b[0m password_field \u001b[39m=\u001b[39m driver\u001b[39m.\u001b[39mfind_element(By\u001b[39m.\u001b[39mID, value\u001b[39m=\u001b[39m\u001b[39m'\u001b[39m\u001b[39mpassword-content\u001b[39m\u001b[39m'\u001b[39m)\u001b[39m.\u001b[39msend_keys(\u001b[39m'\u001b[39m\u001b[39mnewbo6-Dowsog-donnyj\u001b[39m\u001b[39m'\u001b[39m \u001b[39m+\u001b[39m Keys\u001b[39m.\u001b[39mENTER)\n\u001b[0;32m      5\u001b[0m time\u001b[39m.\u001b[39msleep(\u001b[39m90\u001b[39m)\n\u001b[1;32m----> 6\u001b[0m driver\u001b[39m.\u001b[39;49mclose()\n",
      "File \u001b[1;32mc:\\Users\\Lubar\\AppData\\Local\\Programs\\Python\\Python310\\lib\\site-packages\\selenium\\webdriver\\remote\\webdriver.py:550\u001b[0m, in \u001b[0;36mWebDriver.close\u001b[1;34m(self)\u001b[0m\n\u001b[0;32m    541\u001b[0m \u001b[39mdef\u001b[39;00m \u001b[39mclose\u001b[39m(\u001b[39mself\u001b[39m) \u001b[39m-\u001b[39m\u001b[39m>\u001b[39m \u001b[39mNone\u001b[39;00m:\n\u001b[0;32m    542\u001b[0m     \u001b[39m\"\"\"\u001b[39;00m\n\u001b[0;32m    543\u001b[0m \u001b[39m    Closes the current window.\u001b[39;00m\n\u001b[0;32m    544\u001b[0m \n\u001b[1;32m   (...)\u001b[0m\n\u001b[0;32m    548\u001b[0m \u001b[39m            driver.close()\u001b[39;00m\n\u001b[0;32m    549\u001b[0m \u001b[39m    \"\"\"\u001b[39;00m\n\u001b[1;32m--> 550\u001b[0m     \u001b[39mself\u001b[39;49m\u001b[39m.\u001b[39;49mexecute(Command\u001b[39m.\u001b[39;49mCLOSE)\n",
      "File \u001b[1;32mc:\\Users\\Lubar\\AppData\\Local\\Programs\\Python\\Python310\\lib\\site-packages\\selenium\\webdriver\\remote\\webdriver.py:428\u001b[0m, in \u001b[0;36mWebDriver.execute\u001b[1;34m(self, driver_command, params)\u001b[0m\n\u001b[0;32m    426\u001b[0m response \u001b[39m=\u001b[39m \u001b[39mself\u001b[39m\u001b[39m.\u001b[39mcommand_executor\u001b[39m.\u001b[39mexecute(driver_command, params)\n\u001b[0;32m    427\u001b[0m \u001b[39mif\u001b[39;00m response:\n\u001b[1;32m--> 428\u001b[0m     \u001b[39mself\u001b[39;49m\u001b[39m.\u001b[39;49merror_handler\u001b[39m.\u001b[39;49mcheck_response(response)\n\u001b[0;32m    429\u001b[0m     response[\u001b[39m'\u001b[39m\u001b[39mvalue\u001b[39m\u001b[39m'\u001b[39m] \u001b[39m=\u001b[39m \u001b[39mself\u001b[39m\u001b[39m.\u001b[39m_unwrap_value(\n\u001b[0;32m    430\u001b[0m         response\u001b[39m.\u001b[39mget(\u001b[39m'\u001b[39m\u001b[39mvalue\u001b[39m\u001b[39m'\u001b[39m, \u001b[39mNone\u001b[39;00m))\n\u001b[0;32m    431\u001b[0m     \u001b[39mreturn\u001b[39;00m response\n",
      "File \u001b[1;32mc:\\Users\\Lubar\\AppData\\Local\\Programs\\Python\\Python310\\lib\\site-packages\\selenium\\webdriver\\remote\\errorhandler.py:243\u001b[0m, in \u001b[0;36mErrorHandler.check_response\u001b[1;34m(self, response)\u001b[0m\n\u001b[0;32m    241\u001b[0m         alert_text \u001b[39m=\u001b[39m value[\u001b[39m'\u001b[39m\u001b[39malert\u001b[39m\u001b[39m'\u001b[39m]\u001b[39m.\u001b[39mget(\u001b[39m'\u001b[39m\u001b[39mtext\u001b[39m\u001b[39m'\u001b[39m)\n\u001b[0;32m    242\u001b[0m     \u001b[39mraise\u001b[39;00m exception_class(message, screen, stacktrace, alert_text)  \u001b[39m# type: ignore[call-arg]  # mypy is not smart enough here\u001b[39;00m\n\u001b[1;32m--> 243\u001b[0m \u001b[39mraise\u001b[39;00m exception_class(message, screen, stacktrace)\n",
      "\u001b[1;31mWebDriverException\u001b[0m: Message: disconnected: unable to connect to renderer\n  (failed to check if window was closed: disconnected: unable to connect to renderer)\n  (Session info: chrome=108.0.5359.125)\nStacktrace:\nBacktrace:\n\t(No symbol) [0x00CFF243]\n\t(No symbol) [0x00C87FD1]\n\t(No symbol) [0x00B7D04D]\n\t(No symbol) [0x00B6D3F8]\n\t(No symbol) [0x00B614E4]\n\t(No symbol) [0x00B62344]\n\t(No symbol) [0x00BD17A5]\n\t(No symbol) [0x00BC8553]\n\t(No symbol) [0x00BA163C]\n\t(No symbol) [0x00BA269D]\n\tGetHandleVerifier [0x00F99A22+2655074]\n\tGetHandleVerifier [0x00F8CA24+2601828]\n\tGetHandleVerifier [0x00DA8C0A+619850]\n\tGetHandleVerifier [0x00DA7830+614768]\n\t(No symbol) [0x00C905FC]\n\t(No symbol) [0x00C95968]\n\t(No symbol) [0x00C95A55]\n\t(No symbol) [0x00CA051B]\n\tBaseThreadInitThunk [0x756000F9+25]\n\tRtlGetAppContainerNamedObjectPath [0x77597BBE+286]\n\tRtlGetAppContainerNamedObjectPath [0x77597B8E+238]\n"
     ]
    }
   ],
   "source": [
    "driver = webdriver.Chrome(service=ChromeService(ChromeDriverManager().install()))\n",
    "driver.get('https://www.discover.com')\n",
    "username_field = driver.find_element(By.ID, value ='userid-content').send_keys('#####')\n",
    "password_field = driver.find_element(By.ID, value='password-content').send_keys('#####' + Keys.ENTER)\n",
    "time.sleep(90)\n",
    "driver.close()"
   ]
  }
 ],
 "metadata": {
  "kernelspec": {
   "display_name": "Python 3.10.6 64-bit",
   "language": "python",
   "name": "python3"
  },
  "language_info": {
   "codemirror_mode": {
    "name": "ipython",
    "version": 3
   },
   "file_extension": ".py",
   "mimetype": "text/x-python",
   "name": "python",
   "nbconvert_exporter": "python",
   "pygments_lexer": "ipython3",
   "version": "3.10.6 (tags/v3.10.6:9c7b4bd, Aug  1 2022, 21:53:49) [MSC v.1932 64 bit (AMD64)]"
  },
  "orig_nbformat": 4,
  "vscode": {
   "interpreter": {
    "hash": "ed26741abdfaa05bb5e7fa55b711d976254ca75b744d05cc7246c2f4db4924a1"
   }
  }
 },
 "nbformat": 4,
 "nbformat_minor": 2
}
